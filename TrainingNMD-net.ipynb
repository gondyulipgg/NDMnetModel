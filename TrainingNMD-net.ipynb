{
 "cells": [
  {
   "cell_type": "code",
   "execution_count": null,
   "metadata": {},
   "outputs": [],
   "source": [
    "\n",
    "%matplotlib inline\n",
    "\n",
    "import os\n",
    "import numpy as np\n",
    "import matplotlib.pyplot as plt\n",
    "\n",
    "import torch\n",
    "from torch.utils.data import random_split\n",
    "from torch.autograd import Variable\n",
    "from torchvision import transforms\n",
    "import warnings\n",
    "warnings.filterwarnings('ignore')\n",
    "\n",
    "from dataset import DatasetFromFolderPy\n",
    "from NDMnet import Generator\n",
    "\n"
   ]
  },
  {
   "cell_type": "code",
   "execution_count": null,
   "metadata": {},
   "outputs": [],
   "source": [
    "DIR_RESULTS = 'results/'\n",
    "if not os.path.isdir(DIR_RESULTS):\n",
    "    os.mkdir(DIR_RESULTS)\n",
    "    \n",
    "N_sources = 171 #Number of sources in dataset\n",
    "DIR_TRAINING_DATASET_X = 'Data/Model5M/mar5z_5/'\n",
    "DIR_TRAINING_DATASET_Y = 'Data/Model1M/mar1z_1/'\n",
    "\n",
    "lrG = 0.0002\n",
    "ngf = 64\n",
    "beta1 = 0.5\n",
    "beta2 = 0.999\n",
    "num_epochs = 750\n",
    "batch_size = 5"
   ]
  },
  {
   "cell_type": "code",
   "execution_count": null,
   "metadata": {},
   "outputs": [],
   "source": [
    "torch.cuda.is_available()\n",
    "torch.cuda.device_count()\n",
    "device = torch.device(\"cuda:1\" if torch.cuda.is_available() else 'cpu:0')\n",
    "print(device)\n",
    "torch.cuda.set_device(device)"
   ]
  },
  {
   "cell_type": "code",
   "execution_count": null,
   "metadata": {},
   "outputs": [],
   "source": [
    "#Create training dataset (equdistant)\n",
    "\n",
    "percent = 60\n",
    "proportion = int(100/percent)\n",
    "train_idx = range(0, N_sources, proportion)\n",
    "np.save(DIR_RESULTS+'jdx', train_idx)\n",
    "train_idx_dir = DIR_RESULTS+'jdx.npy'\n",
    "\n",
    "alpha = 10e-9 #Normalization coefficient\n",
    "transTorch = transforms.Compose([\n",
    "    transforms.ToTensor(),\n",
    "    transforms.Normalize((0.0),(alpha))\n",
    "])\n",
    "\n",
    "trans_target = transforms.Compose([\n",
    "    transforms.ToTensor(),\n",
    "    transforms.Normalize((0.0),(alpha))\n",
    "    \n",
    "])\n",
    "\n",
    "train_data = DatasetFromFolderPy(DIR_TRAINING_DATASET_X, DIR_TRAINING_DATASET_Y, DIR_RESULTS, transform = transTorch, transform_target= trans_target,direction='AtoB')\n",
    "\n",
    "val_percent = 0.1\n",
    "n_val = int(len(train_data)*val_percent)\n",
    "n_train = len(train_data) - n_val\n",
    "train_set, val_set = random_split(train_data, [n_train, n_val], generator=torch.Generator().manual_seed(0))\n",
    "\n",
    "train_data_loader = torch.utils.data.DataLoader(dataset=train_set, batch_size=batch_size, shuffle=True)\n",
    "val_data_loader = torch.utils.data.DataLoader(dataset=val_set, batch_size=batch_size, shuffle=True)\n"
   ]
  },
  {
   "cell_type": "code",
   "execution_count": null,
   "metadata": {},
   "outputs": [],
   "source": [
    "\n",
    "G=Generator(2,ngf,2) \n",
    "G.cuda()\n",
    "G.normal_weight_init(mean=0.0, std=0.02)\n",
    "BCE_loss = torch.nn.BCELoss().cuda()\n",
    "L1_loss = torch.nn.L1Loss().cuda()\n",
    "L2_loss = torch.nn.MSELoss().cuda()\n",
    "\n",
    "G_optimizer = torch.optim.Adam(G.parameters(), lr = lrG, betas = (beta1, beta2))\n",
    "scheduler = torch.optim.lr_scheduler.ReduceLROnPlateau(G_optimizer, factor = 0.5, patience = 10, verbose = True)\n",
    "\n",
    "load = False\n",
    "if load:\n",
    "    G.load_state_dict(torch.load(DIR_RESULTS+\"G_740.pkl\"))\n",
    "\n",
    "TrainingLoss = []\n",
    "ValidationLoss = []\n",
    "for epoch in range(0,num_epochs):\n",
    "            losses = []\n",
    "            avg_time = 0.\n",
    "            G.train()\n",
    "            for i, (input, target) in enumerate(train_data_loader):\n",
    "                x_ = Variable(input.cuda())\n",
    "                y_ = Variable(target.cuda())\n",
    "                \n",
    "                G_optimizer.zero_grad()\n",
    "                gen_image = G(x_)\n",
    "                loss = L1_loss(gen_image, y_)\n",
    "                losses.append(loss.item())\n",
    "                \n",
    "                loss.backward()\n",
    "                G_optimizer.step()\n",
    "            \n",
    "            mean_loss = sum(losses) / len(losses)     \n",
    "            scheduler.step(mean_loss)\n",
    "            TrainingLoss.append(mean_loss)\n",
    "            #validate\n",
    "            G.eval()\n",
    "            losses_val = []\n",
    "            for i, (input, target) in enumerate(val_data_loader):\n",
    "                x_ = Variable(input.cuda())\n",
    "                y_ = Variable(target.cuda())\n",
    "                    \n",
    "                gen_image = G(x_)\n",
    "                loss = L1_loss(gen_image, y_)\n",
    "                losses_val.append(loss.item())\n",
    "                loss.backward()\n",
    "            mean_loss_val = sum(losses_val)/len(losses_val)\n",
    "            ValidationLoss.append(mean_loss_val)\n",
    "            if epoch!=0 and epoch % 20 == 0:\n",
    "                    torch.save(G.state_dict(), DIR_RESULTS + 'G_' + str(epoch) + '.pkl')\n",
    "                    print(epoch, \" save.\")\n",
    "torch.save(G.state_dict(), DIR_RESULTS + 'G_' + str(epoch) + '.pkl')"
   ]
  },
  {
   "cell_type": "code",
   "execution_count": null,
   "metadata": {},
   "outputs": [],
   "source": [
    "plt.figure(figsize=(25,10))\n",
    "epochs = np.arange(0,750,1)\n",
    "plt.plot(epochs,TrainingLoss, label = 'Training loss')\n",
    "epochs = np.arange(0,750,1)\n",
    "plt.plot(epochs,ValidationLoss, label = 'Validation loss')\n",
    "plt.legend(fontsize=\"25\")\n",
    "plt.grid(True)\n",
    "plt.ylabel('Loss', size= 25)\n",
    "plt.xlabel('Epochs', size= 25)\n",
    "plt.savefig(DIR_RESULTS+'TrValLoss.eps', format = 'eps')\n",
    "plt.savefig(DIR_RESULTS+'TrValLoss.png')\n"
   ]
  }
 ],
 "metadata": {
  "kernelspec": {
   "display_name": "Python 3",
   "language": "python",
   "name": "python3"
  },
  "language_info": {
   "name": "python",
   "version": "3.10.6"
  },
  "vscode": {
   "interpreter": {
    "hash": "e7370f93d1d0cde622a1f8e1c04877d8463912d04d973331ad4851f04de6915a"
   }
  }
 },
 "nbformat": 4,
 "nbformat_minor": 2
}
